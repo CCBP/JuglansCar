{
  "cells": [
    {
      "cell_type": "markdown",
      "metadata": {
        "id": "G-06Ylzt3YwX"
      },
      "source": [
        "# 挂载Google Drive"
      ]
    },
    {
      "cell_type": "markdown",
      "metadata": {
        "id": "76zNYP9oFLO-"
      },
      "source": [
        "连接并挂载Google Drive，切换工作目录到数据储存目录。"
      ]
    },
    {
      "cell_type": "code",
      "execution_count": null,
      "metadata": {
        "id": "Z9AEHautUv0L",
        "colab": {
          "base_uri": "https://localhost:8080/"
        },
        "outputId": "5d71e21d-3c0d-4b57-e7cb-a3a943753b8d"
      },
      "outputs": [
        {
          "output_type": "stream",
          "name": "stdout",
          "text": [
            "Mounted at /content/drive\n",
            "Tue May  3 07:19:39 2022       \n",
            "+-----------------------------------------------------------------------------+\n",
            "| NVIDIA-SMI 460.32.03    Driver Version: 460.32.03    CUDA Version: 11.2     |\n",
            "|-------------------------------+----------------------+----------------------+\n",
            "| GPU  Name        Persistence-M| Bus-Id        Disp.A | Volatile Uncorr. ECC |\n",
            "| Fan  Temp  Perf  Pwr:Usage/Cap|         Memory-Usage | GPU-Util  Compute M. |\n",
            "|                               |                      |               MIG M. |\n",
            "|===============================+======================+======================|\n",
            "|   0  Tesla K80           Off  | 00000000:00:04.0 Off |                    0 |\n",
            "| N/A   57C    P0    72W / 149W |    145MiB / 11441MiB |      1%      Default |\n",
            "|                               |                      |                  N/A |\n",
            "+-------------------------------+----------------------+----------------------+\n",
            "                                                                               \n",
            "+-----------------------------------------------------------------------------+\n",
            "| Processes:                                                                  |\n",
            "|  GPU   GI   CI        PID   Type   Process name                  GPU Memory |\n",
            "|        ID   ID                                                   Usage      |\n",
            "|=============================================================================|\n",
            "+-----------------------------------------------------------------------------+\n"
          ]
        }
      ],
      "source": [
        "from matplotlib import pyplot as plt\n",
        "from sklearn.utils import shuffle\n",
        "from keras.models import load_model\n",
        "import tensorflow as tf\n",
        "import numpy as np\n",
        "import os, cv2, csv\n",
        "\n",
        "if os.name == 'posix':                             # Linux\n",
        "    from google.colab import drive\n",
        "    drive.mount('/content/drive')                       # 挂载Google Drive\n",
        "    os.chdir('/content/drive/MyDrive/Juglans')                # 切换工作目录\n",
        "    os.listdir()\n",
        "\n",
        "    tf.test.gpu_device_name()                         # 测试GPU\n",
        "    !/opt/bin/nvidia-smi"
      ]
    },
    {
      "cell_type": "markdown",
      "metadata": {
        "id": "4uQGEZUo5B2M"
      },
      "source": [
        "# 数据增强"
      ]
    },
    {
      "cell_type": "markdown",
      "metadata": {
        "id": "ZSxNF5gIJ2xd"
      },
      "source": [
        "## 翻转\n",
        "通过翻转图像和转向角度，网络能够学习这两种情况，并且不会偏向左转或右转。"
      ]
    },
    {
      "cell_type": "code",
      "execution_count": null,
      "metadata": {
        "id": "ymhJYfRuJ-Al"
      },
      "outputs": [],
      "source": [
        "def flip(img):\n",
        "    return cv2.flip(img, 0)"
      ]
    },
    {
      "cell_type": "markdown",
      "metadata": {
        "id": "knPkn_PFKhCt"
      },
      "source": [
        "## 随机亮度调整\n",
        "随机调整图像的亮度有助于模型更好地泛化到更多光照情况。"
      ]
    },
    {
      "cell_type": "code",
      "execution_count": null,
      "metadata": {
        "id": "i18CSJx2Kk_0"
      },
      "outputs": [],
      "source": [
        "def adjust_brightness_RGB(img):\n",
        "    \"\"\"\n",
        "    Adjust brightness of the IMG, whose color is in RGB\n",
        "    \"\"\"\n",
        "    hsv = cv2.cvtColor(img, cv2.COLOR_RGB2HSV)\n",
        "    ratio = 0.9 + 0.4 * (np.random.rand() - 0.5)\n",
        "    hsv[:,:,2] =  hsv[:,:,2] * ratio\n",
        "    return cv2.cvtColor(hsv, cv2.COLOR_HSV2RGB)"
      ]
    },
    {
      "cell_type": "markdown",
      "metadata": {
        "id": "AO62sXk3K4GM"
      },
      "source": [
        "## 随机变换调整\n",
        "左右随机变换图像有助于模型更好地泛化到更多未经训练的视角。"
      ]
    },
    {
      "cell_type": "code",
      "execution_count": null,
      "metadata": {
        "id": "H_MqApwOK-QU"
      },
      "outputs": [],
      "source": [
        "def random_translate(image, steering_angle, range_x=100, range_y=10):\n",
        "    \"\"\"\n",
        "    Randomly shift the image virtially and horizontally (translation).\n",
        "    \"\"\"\n",
        "    trans_x = range_x * (np.random.rand() - 0.5)\n",
        "    trans_y = range_y * (np.random.rand() - 0.5)\n",
        "    steering_angle += trans_x * 0.002\n",
        "    trans_m = np.float32([[1, 0, trans_y], [0, 1, trans_x]])\n",
        "    height, width = image.shape[:2]\n",
        "    image = cv2.warpAffine(image, trans_m, (width, height))\n",
        "    return image, steering_angle"
      ]
    },
    {
      "cell_type": "markdown",
      "metadata": {
        "id": "u3ph41tzNe5o"
      },
      "source": [
        "## 随机阴影\n",
        "向左右图像随机添加阴影有助于模型更好地泛化到更多的情况，即一半的道路在树的阴影中，从而在同一条道路上出现不均匀的照明情况。这是丛林赛道较为突出的情况。"
      ]
    },
    {
      "cell_type": "code",
      "execution_count": null,
      "metadata": {
        "id": "-XmOPbstNkPa"
      },
      "outputs": [],
      "source": [
        "def random_shadow(image):\n",
        "    \"\"\"\n",
        "    Generates and adds random shadow\n",
        "    \"\"\"\n",
        "    IMAGE_HEIGHT, IMAGE_WIDTH, IMAGE_CHANNELS = image.shape\n",
        "    x1, y1 = IMAGE_WIDTH * np.random.rand() / 4, 0\n",
        "    x2, y2 = IMAGE_WIDTH * np.random.rand() / 4, IMAGE_HEIGHT\n",
        "    xm, ym = np.mgrid[0:IMAGE_HEIGHT, 0:IMAGE_WIDTH]\n",
        "    mask = np.zeros_like(image[:, :, 1])\n",
        "    mask[(ym - y1) * (x2 - x1) - (y2 - y1) * (xm - x1) > 0] = 1\n",
        "    # choose which side should have shadow and adjust saturation\n",
        "    cond = mask == np.random.randint(2)\n",
        "    s_ratio = np.random.uniform(low=0.5, high=0.8)\n",
        "    # adjust Saturation in HLS(Hue, Light, Saturation)\n",
        "    hls = cv2.cvtColor(image, cv2.COLOR_RGB2HLS)\n",
        "    hls[:, :, 1][cond] = hls[:, :, 1][cond] * s_ratio\n",
        "    return cv2.cvtColor(hls, cv2.COLOR_HLS2RGB)"
      ]
    },
    {
      "cell_type": "markdown",
      "metadata": {
        "id": "eajeIbAzi841"
      },
      "source": [
        "# 数据处理"
      ]
    },
    {
      "cell_type": "markdown",
      "metadata": {
        "id": "lY7jsBQ_KKmn"
      },
      "source": [
        "## 图像预处理\n",
        "- 高斯模糊有助于减少图像噪声和细节，从而平滑训练数据（未使用）；\n",
        "- opencv读取图片的默认像素排列是BGR，故需转换为RGB格式；\n",
        "- 对图像进行归一化处理，将像素值压缩到-1到1。\n"
      ]
    },
    {
      "cell_type": "code",
      "execution_count": null,
      "metadata": {
        "id": "PAj1C3VZKOtk"
      },
      "outputs": [],
      "source": [
        "def process_image(img, kernel_size=5):\n",
        "    \"\"\"\n",
        "    Preprocess IMG with a Gaussian Blur;\n",
        "    Convert it from BGR color channel to RGB color channel;\n",
        "    Normalization.\n",
        "    \"\"\"\n",
        "    # img = cv2.GaussianBlur(img, (kernel_size, kernel_size), 0)\n",
        "    img = cv2.cvtColor(img,cv2.COLOR_BGR2RGB)\n",
        "    img = cv2.resize(img, (160, 160))\n",
        "    img = np.asarray(img)\n",
        "    img = img.astype('float32')\n",
        "    img /= 255\n",
        "    return img"
      ]
    },
    {
      "cell_type": "markdown",
      "metadata": {
        "id": "kIJLdoiPHbmV"
      },
      "source": [
        "## 获取以及分析处理数据"
      ]
    },
    {
      "cell_type": "code",
      "execution_count": null,
      "metadata": {
        "id": "QUDi-LFVi_Mm"
      },
      "outputs": [],
      "source": [
        "def get_sample_data(path, random = True):\n",
        "    \"\"\"\n",
        "    This function returns the data columns of the csv file at PATH\n",
        "    \"\"\"\n",
        "    samples = []\n",
        "    with open(path) as csvfile:\n",
        "        reader = csv.reader(csvfile)\n",
        "        for line in reader:\n",
        "            line[0] = int(line[0])\n",
        "            line[1] = float(line[1])\n",
        "            line[2] = float(line[2])\n",
        "            if (line[2] != 0):                                  # 过滤停车图像\n",
        "                samples.append(line)\n",
        "    return shuffle(samples) if random else samples\n",
        "\n",
        "def analyze_samples(datas, column=1):\n",
        "    \"\"\"\n",
        "    Return a dictionary containing count of all steering angles in DATA\n",
        "    \"\"\"\n",
        "    angle_dict = dict()\n",
        "    for data in datas:\n",
        "        angle = round(data[column] * 10)\n",
        "        if angle not in angle_dict:\n",
        "            angle_dict[angle] = 1\n",
        "        else:\n",
        "            angle_dict[angle] += 1\n",
        "    angle = dict()\n",
        "    for key in sorted(angle_dict):\n",
        "        angle[key] = angle_dict[key]\n",
        "    return angle\n",
        "\n",
        "def redistribute_samples(datas, count_map):\n",
        "    \"\"\"\n",
        "    Return a new dataset by resampling DATA\n",
        "    \"\"\"\n",
        "    average = np.average(list(count_map.values()))\n",
        "    keep_prob = dict()\n",
        "    for i in count_map:\n",
        "        if count_map[i] <= average:\n",
        "            keep_prob[i] = 1 # keep angles whose count <= than average\n",
        "        else:\n",
        "            # keep sample with a probability\n",
        "            keep_prob[i] = average / count_map[i]\n",
        "    # Resample Data\n",
        "    new_data = list()\n",
        "    for data in datas:\n",
        "        angle = round(data[1] * 10)\n",
        "        if np.random.random() <= keep_prob[angle]:\n",
        "            new_data.append(data)\n",
        "    # return np.array(new_data)\n",
        "    return new_data"
      ]
    },
    {
      "cell_type": "markdown",
      "metadata": {
        "id": "lTrZ_k8gHist"
      },
      "source": [
        "## 动态生成数据"
      ]
    },
    {
      "cell_type": "code",
      "execution_count": null,
      "metadata": {
        "id": "cpf1qPeuEDEv"
      },
      "outputs": [],
      "source": [
        "def generator(samples, directory, batch_size=32, preprocess_image=lambda x: x, augment=True):\n",
        "\n",
        "    def read_img(path):\n",
        "        return preprocess_image(cv2.imread(path))\n",
        "\n",
        "    def append_data(lst1, item1, lst2, item2):\n",
        "        lst1.append(item1)\n",
        "        lst2.append(item2)\n",
        "\n",
        "    def use_augmentation(prob):\n",
        "        return True if np.random.random() <= prob else False\n",
        "\n",
        "    def augment(new_img, new_angle):\n",
        "        augmented = False\n",
        "        if augment and use_augmentation(0.4):\n",
        "            new_img, new_angle = adjust_brightness_RGB(new_img), new_angle\n",
        "            augmented = True\n",
        "        if augment and use_augmentation(0.2):\n",
        "            new_img, new_angle = random_shadow(new_img), new_angle\n",
        "            augmented = True\n",
        "        if augment and use_augmentation(0.3):\n",
        "            new_img, new_angle = random_translate(new_img, new_angle)\n",
        "            augmented = True\n",
        "        if not augmented or use_augmentation(0.4):\n",
        "            new_img, new_angle = flip(new_img), -new_angle\n",
        "\n",
        "        return new_img, new_angle\n",
        "    \n",
        "    def to_one_hot(value, fn=lambda x: round((x / 2 + 0.5) * 10), num_classes=11):\n",
        "        one_hot_list = [0] * num_classes\n",
        "        one_hot_list[fn(value)] = 1\n",
        "        return one_hot_list\n",
        "\n",
        "    num_samples = len(samples)\n",
        "    while True: # Loop forever so the generator never terminates\n",
        "        shuffle(samples)\n",
        "        for offset in range(0, num_samples, batch_size):\n",
        "            batch_samples = samples[offset: offset+batch_size]\n",
        "\n",
        "            images = []\n",
        "            steering = []\n",
        "            for batch_sample in batch_samples:\n",
        "                image = read_img(\"{}/{}.jpg\".format(directory, int(batch_sample[0])))\n",
        "                append_data(images, image, steering, batch_sample[1])\n",
        "                # enhanced_img, batch_sample[1] = augment(image, batch_sample[1])\n",
        "                # if batch_sample[1] > 1:\n",
        "                #     batch_sample[1] = 1\n",
        "                # elif batch_sample[1] < -1:\n",
        "                #     batch_sample[1] = -1\n",
        "                # append_data(images, image, steering, batch_sample[1])\n",
        "                \n",
        "            x_train = np.array(images)\n",
        "            y_train = np.array(steering)\n",
        "            yield shuffle(x_train, y_train)"
      ]
    },
    {
      "cell_type": "markdown",
      "metadata": {
        "id": "XySVUxj4j5zy"
      },
      "source": [
        "# 构建模型"
      ]
    },
    {
      "cell_type": "code",
      "execution_count": null,
      "metadata": {
        "id": "BNURYY5AEMlv"
      },
      "outputs": [],
      "source": [
        "from keras.models import Sequential\n",
        "from keras.layers import Dropout, Flatten, Dense, GlobalAveragePooling2D, Cropping2D, Lambda\n",
        "from keras_applications.mobilenet import MobileNet\n",
        "\n",
        "def build_model(input_shape=(160, 160, 3)):\n",
        "    model = Sequential()\n",
        "    # model.add(Cropping2D(cropping=cropping_box, input_shape=input_shape))\n",
        "    # model.add(Lambda(normalize_fn))\n",
        "    # model.add(tf.keras.applications.MobileNet(\n",
        "    model.add(MobileNet(\n",
        "        input_shape = input_shape,\n",
        "        alpha = 0.5,\n",
        "        depth_multiplier = 1, \n",
        "        dropout = 0.001,\n",
        "        include_top = False, \n",
        "        weights = \"imagenet\", \n",
        "        classes = 1000\n",
        "    ))\n",
        "    model.add(GlobalAveragePooling2D())\n",
        "    model.add(Dropout(0.3))\n",
        "    model.add(Dense(10, activation='relu'))\n",
        "    model.add(Dense(1, activation='linear'))\n",
        "    return model"
      ]
    },
    {
      "cell_type": "markdown",
      "metadata": {
        "id": "zngEsje3H3Q8"
      },
      "source": [
        "# 训练模型"
      ]
    },
    {
      "cell_type": "code",
      "execution_count": null,
      "metadata": {
        "colab": {
          "base_uri": "https://localhost:8080/",
          "height": 984
        },
        "id": "C2pyoFNXC95K",
        "outputId": "964e7fe8-78e8-409e-e9bb-33587e012a1b"
      },
      "outputs": [
        {
          "output_type": "display_data",
          "data": {
            "text/plain": [
              "<Figure size 1800x360 with 2 Axes>"
            ],
            "image/png": "[encoded data removed]"
          },
          "metadata": {
            "needs_background": "light"
          }
        },
        {
          "output_type": "stream",
          "name": "stdout",
          "text": [
            "Epoch 1/100\n",
            "121/121 [==============================] - 168s 1s/step - loss: 0.1793 - val_loss: 0.1032\n",
            "Epoch 2/100\n",
            "121/121 [==============================] - 18s 144ms/step - loss: 0.0662 - val_loss: 0.0781\n",
            "Epoch 3/100\n",
            "121/121 [==============================] - 17s 145ms/step - loss: 0.0420 - val_loss: 0.0451\n",
            "Epoch 4/100\n",
            "121/121 [==============================] - 17s 145ms/step - loss: 0.0299 - val_loss: 0.0261\n",
            "Epoch 5/100\n",
            "121/121 [==============================] - 18s 146ms/step - loss: 0.0240 - val_loss: 0.0225\n",
            "Epoch 6/100\n",
            "121/121 [==============================] - 17s 144ms/step - loss: 0.0198 - val_loss: 0.0228\n",
            "Epoch 7/100\n",
            "121/121 [==============================] - 17s 144ms/step - loss: 0.0171 - val_loss: 0.0219\n",
            "Epoch 8/100\n",
            "121/121 [==============================] - 17s 143ms/step - loss: 0.0136 - val_loss: 0.0234\n",
            "Epoch 9/100\n",
            "121/121 [==============================] - 17s 144ms/step - loss: 0.0131 - val_loss: 0.0212\n",
            "Epoch 10/100\n",
            "121/121 [==============================] - 17s 144ms/step - loss: 0.0115 - val_loss: 0.0203\n",
            "Epoch 11/100\n",
            "121/121 [==============================] - 17s 144ms/step - loss: 0.0103 - val_loss: 0.0224\n",
            "Epoch 12/100\n",
            "121/121 [==============================] - 17s 144ms/step - loss: 0.0103 - val_loss: 0.0231\n",
            "Epoch 13/100\n",
            "121/121 [==============================] - ETA: 0s - loss: 0.0089Restoring model weights from the end of the best epoch: 10.\n",
            "121/121 [==============================] - 17s 145ms/step - loss: 0.0089 - val_loss: 0.0223\n",
            "Epoch 13: early stopping\n",
            "model saved as model.h5\n",
            "dict_keys(['loss', 'val_loss'])\n"
          ]
        },
        {
          "output_type": "display_data",
          "data": {
            "text/plain": [
              "<Figure size 432x288 with 1 Axes>"
            ],
            "image/png": "[encoded data removed]"
          },
          "metadata": {
            "needs_background": "light"
          }
        }
      ],
      "source": [
        "from sklearn.model_selection import train_test_split\n",
        "\n",
        "model_name = \"model.h5\"\n",
        "data_path = \"data\"\n",
        "samples = get_sample_data(data_path + \"/output.csv\")                     # 获取数据\n",
        "train_samples, valid_samples = train_test_split(samples, test_size=0.2)            # 分割训练集与验证集\n",
        "\n",
        "analyzeed_samples = analyze_samples(train_samples)                       # 分析数据，获取数据分布\n",
        "train_samples = redistribute_samples(train_samples, analyzeed_samples)             # 对数据进行重新采样\n",
        "\n",
        "train_generator = generator(train_samples, batch_size=16, directory=data_path, preprocess_image=process_image)\n",
        "valid_generator = generator(valid_samples, batch_size=16, directory=data_path, preprocess_image=process_image)\n",
        "\n",
        "plt.figure(\"Angle distribute\", figsize=(25, 5))\n",
        "plt.subplot(1, 2, 1)\n",
        "plt.title(\"Original distribute\")                                 # 原始数据分布\n",
        "analyzeed_samples = analyze_samples(samples)\n",
        "plt.bar(analyzeed_samples.keys(), analyzeed_samples.values())\n",
        "plt.subplot(1, 2, 2)\n",
        "plt.title(\"Training data distribute\")                              # 训练集数据分布\n",
        "analyzeed_samples = analyze_samples(train_samples)\n",
        "plt.bar(analyzeed_samples.keys(), analyzeed_samples.values())\n",
        "plt.show()\n",
        "\n",
        "from keras import callbacks\n",
        "\n",
        "model = build_model()                                      # 重新训练\n",
        "# model = load_model(model_name)                                  # 继续训练\n",
        "\n",
        "# model.compile(optimizer='adam', loss='mse', metrics=['accuracy'])\n",
        "model.compile(optimizer='adam', loss='mse')\n",
        "\n",
        "early_stopping=callbacks.EarlyStopping(monitor='val_loss', min_delta=0,           # 提前停止\n",
        "                    patience=3, verbose=1, mode='auto',\n",
        "                    baseline=None, restore_best_weights=True)\n",
        "\n",
        "history = model.fit(                                      # 开始训练\n",
        "    train_generator, \n",
        "    steps_per_epoch=len(train_samples)//16, \n",
        "    validation_data=valid_generator, \n",
        "    validation_steps=len(valid_samples)//16, \n",
        "    epochs=100, \n",
        "    verbose=1,\n",
        "    callbacks=[early_stopping]\n",
        ")\n",
        "\n",
        "model.save(model_name)\n",
        "print(\"model saved as\", model_name)\n",
        "\n",
        "print(history.history.keys())\n",
        "\n",
        "# # 训练历史\n",
        "plt.figure('history')\n",
        "# plt.subplot(1, 2, 1)\n",
        "# plt.plot(history.history['accuracy'])\n",
        "# plt.plot(history.history['val_accuracy'])\n",
        "# plt.title('Accuracy history')\n",
        "# plt.ylabel('accuracy')\n",
        "# plt.xlabel('epoch')\n",
        "# plt.legend(['train', 'validation'], loc='upper left')\n",
        "# plt.subplot(1, 2, 2)\n",
        "plt.plot(history.history['loss'])\n",
        "plt.plot(history.history['val_loss'])\n",
        "plt.title('Loss history')\n",
        "plt.ylabel('loss')\n",
        "plt.xlabel('epoch')\n",
        "plt.legend(['train', 'validation'], loc='upper right')\n",
        "plt.show()"
      ]
    },
    {
      "cell_type": "markdown",
      "metadata": {
        "id": "pC-AsMIX8Ys_"
      },
      "source": [
        "## 模型转换"
      ]
    },
    {
      "cell_type": "markdown",
      "metadata": {
        "id": "SM0b33N48unf"
      },
      "source": [
        "### .h5转为.tflite模型"
      ]
    },
    {
      "cell_type": "code",
      "execution_count": null,
      "metadata": {
        "id": "K9z-Ikyx8X-A",
        "colab": {
          "base_uri": "https://localhost:8080/"
        },
        "outputId": "177f3382-1250-466d-b3e7-881559b001fb"
      },
      "outputs": [
        {
          "output_type": "stream",
          "name": "stderr",
          "text": [
            "WARNING:absl:Function `_wrapped_model` contains input name(s) mobilenet_0.50_160_input with unsupported characters which will be renamed to mobilenet_0_50_160_input in the SavedModel.\n"
          ]
        },
        {
          "output_type": "stream",
          "name": "stdout",
          "text": [
            "INFO:tensorflow:Assets written to: /tmp/tmpyslzrel3/assets\n"
          ]
        },
        {
          "output_type": "stream",
          "name": "stderr",
          "text": [
            "INFO:tensorflow:Assets written to: /tmp/tmpyslzrel3/assets\n",
            "WARNING:absl:Buffer deduplication procedure will be skipped when flatbuffer library is not properly loaded\n"
          ]
        }
      ],
      "source": [
        "model = tf.keras.models.load_model(\"model.h5\")\n",
        "converter = tf.lite.TFLiteConverter.from_keras_model(model)\n",
        "# converter.optimizations = [tf.lite.Optimize.DEFAULT]\n",
        "tflite_model = converter.convert()\n",
        "with open(\"model.tflite\", \"wb\") as f:\n",
        "    f.write(tflite_model)"
      ]
    },
    {
      "cell_type": "code",
      "execution_count": null,
      "metadata": {
        "id": "m3JUwfGZIDJV"
      },
      "outputs": [],
      "source": [
        "# !tflite_convert  --output_file=model.tflite --keras_model_file=model.h5"
      ]
    },
    {
      "cell_type": "markdown",
      "metadata": {
        "id": "W0ZkUxaiP4nc"
      },
      "source": [
        "### .tflite转为.kmodel模型"
      ]
    },
    {
      "cell_type": "markdown",
      "source": [
        "生成大小为(160, 160)的测试图片"
      ],
      "metadata": {
        "id": "oTtoNXtoZkqR"
      }
    },
    {
      "cell_type": "code",
      "source": [
        "if not os.path.exists('calibrate'):       # 不存在此文件夹则说明需要生成，否则不再生成\n",
        "    os.makedirs('calibrate')\n",
        "\n",
        "    names = os.listdir('data')\n",
        "    for name in names:\n",
        "        if name.endswith('.jpg'):\n",
        "            img = cv2.imread('data/' + name)\n",
        "            img = cv2.resize(img, (160, 160))\n",
        "            cv2.imwrite('calibrate/' + name, img)"
      ],
      "metadata": {
        "id": "xl5JMFG0YwyQ"
      },
      "execution_count": null,
      "outputs": []
    },
    {
      "cell_type": "code",
      "execution_count": null,
      "metadata": {
        "id": "0WWugf3aCMuh",
        "colab": {
          "base_uri": "https://localhost:8080/"
        },
        "outputId": "153aac8d-4e3f-4b91-9934-4fe1b74180cc"
      },
      "outputs": [
        {
          "output_type": "stream",
          "name": "stdout",
          "text": [
            "1. Import graph...\n",
            "2. Optimize Pass 1...\n",
            "3. Optimize Pass 2...\n",
            "4. Quantize...\n",
            "  4.1. Add quantization checkpoints...\n",
            "  4.2. Get activation ranges...\n",
            "  Plan buffers...\n",
            "  Run calibration...\n",
            "  [==================================================] 100% 859.335s\n",
            "  4.5. Quantize graph...\n",
            "WARN: Conv2D_1 Fallback to float conv2d due to weights divergence.\n",
            "WARN: Conv2D_5 Fallback to float conv2d due to weights divergence.\n",
            "5. Lowering...\n",
            "6. Optimize Pass 3...\n",
            "7. Generate code...\n",
            "  Plan buffers...\n",
            "  Emit code...\n",
            "Working memory usage: 921600 B\n",
            "\n",
            "SUMMARY\n",
            "INPUTS\n",
            "0\tInput_0\t1x3x160x160\n",
            "OUTPUTS\n",
            "0\tStatefulPartitionedCall:0\t1x1\n"
          ]
        }
      ],
      "source": [
        "if os.name == 'posix': \n",
        "    !chmod +x ./ncc\n",
        "    !./ncc compile model.tflite model.kmodel -i tflite -o kmodel -t k210 --dataset calibrate\n",
        "else:\n",
        "    !ncc.exe compile model.tflite model.kmodel -i tflite -o kmodel -t k210 --dataset calibrate"
      ]
    },
    {
      "cell_type": "markdown",
      "metadata": {
        "id": "IgsV2mf1P9N9"
      },
      "source": [
        "### 获取模型大小"
      ]
    },
    {
      "cell_type": "code",
      "execution_count": null,
      "metadata": {
        "id": "SNYJJAw-P1m9",
        "colab": {
          "base_uri": "https://localhost:8080/"
        },
        "outputId": "ff3ca709-c95c-4557-c3a1-e081e40eb224"
      },
      "outputs": [
        {
          "output_type": "stream",
          "name": "stdout",
          "text": [
            "h5 model size: 9.83MB\n",
            "tflite model size: 3.14MB\n",
            "kmodel model size: 0.83MB\n",
            "input:  900.00 KB\t(921600 B)\n",
            "output:    8.00 B\t(8 B)\n",
            "data: 1012.50 KB\t(1036800 B)\n",
            "MODEL:    1.03 MB\t(1083136 B)\n",
            "TOTAL:    2.90 MB\t(3041544 B)\n",
            "\n"
          ]
        }
      ],
      "source": [
        "print(\"h5 model size: %.2fMB\" % (os.path.getsize(\"model.h5\") / (1024 * 1024)))\n",
        "print(\"tflite model size: %.2fMB\" % (os.path.getsize(\"model.tflite\") / (1024 * 1024)))\n",
        "print(\"kmodel model size: %.2fMB\" % (os.path.getsize(\"model.kmodel\") / (1024 * 1024)))\n",
        "\n",
        "if os.name == 'posix':      # 在Windows下不会生成内存使用文件\n",
        "    with open(\"memory_usage.txt\", \"r\") as f:\n",
        "        print(f.read())"
      ]
    },
    {
      "cell_type": "markdown",
      "metadata": {
        "id": "306b4Z-GErgY"
      },
      "source": [
        "## 测试模型"
      ]
    },
    {
      "cell_type": "code",
      "source": [
        "import csv\n",
        "\n",
        "def get_samples(path, max_num=None):\n",
        "    '''\n",
        "    获取数据\n",
        "    参数：\n",
        "     - path 数据存储目录，必须以'/'结尾\n",
        "     - max_num 最大读取数量\n",
        "    返回值：\n",
        "     - samples 数据字典，key为图片编号，value第一列为图片数组，第二列为对应的转角数值\n",
        "    '''\n",
        "    samples = dict()\n",
        "    with open(path + 'output.csv') as csvfile:\n",
        "        reader = csv.reader(csvfile)\n",
        "        for line in reader:\n",
        "            if (line[2] == '0'):                                  # 过滤停车图像\n",
        "                continue\n",
        "            image = cv2.imread(path + '/{}.jpg'.format(line[0]))\n",
        "            # image = cv2.cvtColor(image, cv2.COLOR_BGR2RGB)\n",
        "            # samples[line[0]] = (np.asarray(image), float(line[1]))\n",
        "            image = process_image(image)\n",
        "            samples[line[0]] = (image, float(line[1]))\n",
        "            if max_num is not None:\n",
        "                max_num -= 1\n",
        "                if max_num == 0:\n",
        "                    break\n",
        "    return samples\n",
        "\n",
        "def model_accuracy(model, evaluator, samples, FAULT_TOLERANCE=0.2):\n",
        "    '''\n",
        "    计算模型的准确率\n",
        "    参数：\n",
        "     - model 计算使用的模型，若测试模型为kmodel则为None\n",
        "     - evaluator 模型对应的评估器，输入输入参数为模型与图片，返回值为预测出的转角\n",
        "     - samples 数据字典，key为图片编号，value第一列为图片数组，第二列为对应的转角数值\n",
        "     - FAULT_TOLERANCE 容错率，与目标值之差小于此值被视为预测正确\n",
        "    返回：\n",
        "     - 模型准确率\n",
        "     - 此模型预测数据字典，key为图片编号，value为预测数值\n",
        "    '''\n",
        "    results = dict()\n",
        "    total_acc = 0\n",
        "    for index, (image, angle) in samples.items():\n",
        "        if model is None:\n",
        "            result = evaluator(index)\n",
        "        else:\n",
        "            result = evaluator(model, image)\n",
        "        results[index] = (result,)  # 为了兼容analyze_samples函数\n",
        "        loss = abs(angle - result)\n",
        "        if (loss > FAULT_TOLERANCE):\n",
        "            loss = 1        # 预测错误，即预测值完全偏离实际值\n",
        "        else:\n",
        "            loss /= FAULT_TOLERANCE # 相对损失，即预测值与实际值的接近程度\n",
        "        total_acc += 1 - loss\n",
        "    # 计算准确率，理想情况下预测完全正确时loss全部为0，则total_acc与results的长度相等\n",
        "    accuracy = total_acc / len(results)\n",
        "    return accuracy, results\n",
        "\n",
        "\n",
        "# 测试数据\n",
        "samples = get_samples('data/', 1000)\n",
        "# single_test_images = [21, 1975, 2751, 4681]\n",
        "# single_test_labels = [0.13, -0.42, 0.43, -0.70]"
      ],
      "metadata": {
        "id": "MKph7xz630dn"
      },
      "execution_count": null,
      "outputs": []
    },
    {
      "cell_type": "markdown",
      "source": [
        "### .h5模型测试"
      ],
      "metadata": {
        "id": "SiWanqrqzD3r"
      }
    },
    {
      "cell_type": "code",
      "execution_count": null,
      "metadata": {
        "id": "Kz8UvQN8EtlP",
        "colab": {
          "base_uri": "https://localhost:8080/",
          "height": 650
        },
        "outputId": "9a11cc30-7eac-45bc-ce4d-3db42fd86aff"
      },
      "outputs": [
        {
          "output_type": "stream",
          "name": "stdout",
          "text": [
            "Model: \"sequential_1\"\n",
            "_________________________________________________________________\n",
            " Layer (type)                Output Shape              Param #   \n",
            "=================================================================\n",
            " mobilenet_0.50_160 (Functio  (None, 5, 5, 512)        829536    \n",
            " nal)                                                            \n",
            "                                                                 \n",
            " global_average_pooling2d_1   (None, 512)              0         \n",
            " (GlobalAveragePooling2D)                                        \n",
            "                                                                 \n",
            " dropout_1 (Dropout)         (None, 512)               0         \n",
            "                                                                 \n",
            " dense_2 (Dense)             (None, 10)                5130      \n",
            "                                                                 \n",
            " dense_3 (Dense)             (None, 1)                 11        \n",
            "                                                                 \n",
            "=================================================================\n",
            "Total params: 834,677\n",
            "Trainable params: 823,733\n",
            "Non-trainable params: 10,944\n",
            "_________________________________________________________________\n"
          ]
        },
        {
          "output_type": "display_data",
          "data": {
            "text/plain": [
              "<Figure size 432x288 with 1 Axes>"
            ],
            "image/png": "[encoded data removed]"
          },
          "metadata": {
            "needs_background": "light"
          }
        }
      ],
      "source": [
        "from keras.models import load_model\n",
        "\n",
        "h5_model = load_model('model.h5')\n",
        "h5_model.summary()\n",
        "\n",
        "def h5_evaluator(model, image):\n",
        "    result = model.predict(image[None, :, :, :], batch_size=1)\n",
        "    return result[0][0]\n",
        "\n",
        "h5_accuracy, h5_results = model_accuracy(h5_model, h5_evaluator, samples)\n",
        "plt.figure('h5 model infer result distribute')\n",
        "plt.title('h5 accuracy:{}'.format(h5_accuracy), size=18)\n",
        "analyzeed_samples = analyze_samples(h5_results.values(), 0)\n",
        "plt.bar(analyzeed_samples.keys(), analyzeed_samples.values())\n",
        "plt.show()"
      ]
    },
    {
      "cell_type": "markdown",
      "source": [
        "### .tfilte模型测试"
      ],
      "metadata": {
        "id": "avlF9BWTzSzD"
      }
    },
    {
      "cell_type": "code",
      "source": [
        "# Load TFLite model and allocate tensors.\n",
        "tflite_model = tf.lite.Interpreter(model_path='model.tflite')\n",
        "tflite_model.allocate_tensors()\n",
        "# Get input and output tensors.\n",
        "input_details = tflite_model.get_input_details()\n",
        "output_details = tflite_model.get_output_details()\n",
        "\n",
        "def tflite_evaluator(model, image):\n",
        "    image = image.astype(np.float32)\n",
        "    model.set_tensor(input_details[0]['index'], image[None, :, :, :])\n",
        "    model.invoke()\n",
        "    # The function `get_tensor()` returns a copy of the tensor data.\n",
        "    # Use `tensor()` in order to get a pointer to the tensor.\n",
        "    result = model.get_tensor(output_details[0]['index'])\n",
        "    return result[0][0]\n",
        "\n",
        "tflite_accuracy, tflite_results = model_accuracy(tflite_model, tflite_evaluator, samples)\n",
        "plt.figure('tflite model infer result distribute')\n",
        "plt.title('tflite accuracy:{}'.format(tflite_accuracy), size=18)\n",
        "analyzeed_samples = analyze_samples(tflite_results.values(), 0)\n",
        "plt.bar(analyzeed_samples.keys(), analyzeed_samples.values())\n",
        "plt.show()"
      ],
      "metadata": {
        "id": "AoaKd21mz727",
        "colab": {
          "base_uri": "https://localhost:8080/",
          "height": 285
        },
        "outputId": "15da3237-6eff-4791-bb5d-0ccff8726948"
      },
      "execution_count": null,
      "outputs": [
        {
          "output_type": "display_data",
          "data": {
            "text/plain": [
              "<Figure size 432x288 with 1 Axes>"
            ],
            "image/png": "[encoded data removed]"
          },
          "metadata": {
            "needs_background": "light"
          }
        }
      ]
    },
    {
      "cell_type": "markdown",
      "source": [
        "### .kmodel模型测试"
      ],
      "metadata": {
        "id": "3PrS9TM3zmiD"
      }
    },
    {
      "cell_type": "markdown",
      "source": [
        "使用kmodel对所有数据生成预测值"
      ],
      "metadata": {
        "id": "Q4c75x9czsIz"
      }
    },
    {
      "cell_type": "code",
      "source": [
        "if not os.path.exists('kmodel_infer'):\n",
        "    os.makedirs('kmodel_infer')\n",
        "\n",
        "    if os.name == 'posix':\n",
        "        !./ncc infer model.kmodel kmodel_infer --dataset calibrate\n",
        "    else:\n",
        "        !ncc.exe infer model.kmodel kmodel_infer --dataset calibrate"
      ],
      "metadata": {
        "id": "oHHD10u9F7cH"
      },
      "execution_count": null,
      "outputs": []
    },
    {
      "cell_type": "markdown",
      "source": [
        "计算kmodel准确率"
      ],
      "metadata": {
        "id": "TFzF15gwz15b"
      }
    },
    {
      "cell_type": "code",
      "source": [
        "def kmodel_evaluator(index):\n",
        "    result = np.fromfile('kmodel_infer/{}.bin'.format(index), dtype=np.float32)\n",
        "    return result[0]\n",
        "\n",
        "kmodel_accuracy, kmodel_results = model_accuracy(None, kmodel_evaluator, samples)\n",
        "plt.figure('kmodel model infer result distribute')\n",
        "plt.title('kmodel accuracy:{}'.format(kmodel_accuracy), size=18)\n",
        "analyzeed_samples = analyze_samples(kmodel_results.values(), 0)\n",
        "plt.bar(analyzeed_samples.keys(), analyzeed_samples.values())\n",
        "plt.show()"
      ],
      "metadata": {
        "id": "yr9M5zz1JwPM",
        "colab": {
          "base_uri": "https://localhost:8080/",
          "height": 285
        },
        "outputId": "89431950-2c6e-4c46-d97d-bc2e5b865483"
      },
      "execution_count": null,
      "outputs": [
        {
          "output_type": "display_data",
          "data": {
            "text/plain": [
              "<Figure size 432x288 with 1 Axes>"
            ],
            "image/png": "[encoded data removed]"
          },
          "metadata": {
            "needs_background": "light"
          }
        }
      ]
    },
    {
      "cell_type": "markdown",
      "metadata": {
        "id": "_RGniBtTYEDX"
      },
      "source": [
        "# 总结"
      ]
    },
    {
      "cell_type": "markdown",
      "metadata": {
        "id": "1Mk65SAto5PM"
      },
      "source": [
        "### 中间激活"
      ]
    },
    {
      "cell_type": "code",
      "execution_count": null,
      "metadata": {
        "id": "WjtROwIMYGt_"
      },
      "outputs": [],
      "source": [
        "# from keras import models\n",
        "\n",
        "# plt.rc('xtick', labelsize=18)                                  # 设置坐标轴字号\n",
        "# plt.rc('ytick', labelsize=18) \n",
        "\n",
        "# data = samples[np.random.randint(len(samples))]\n",
        "# img = cv2.imread(\"data/{}.jpg\".format(data[0]))\n",
        "# plt.figure()\n",
        "# plt.title(data[0])\n",
        "# plt.imshow(img)\n",
        "# plt.show()\n",
        "\n",
        "# model = models.load_model(\"model.h5\")\n",
        "# img_arr = np.asarray(img)\n",
        "\n",
        "# layer_names = []                                        # 获取要显示的各层名称\n",
        "# for layer in model.layers:\n",
        "#     if 'flatten' in layer.name:                              # 截止到 'flatten' 层\n",
        "#         break\n",
        "#     layer_names.append(layer.name)\n",
        "\n",
        "# layer_outputs = [layer.output for layer in model.layers[: len(layer_names)]]\n",
        "# activation_model = models.Model(inputs=model.input, outputs=layer_outputs)\n",
        "# activations = activation_model.predict(img_arr[None, :, :, :])\n",
        "\n",
        "# images_per_row = 4\n",
        "# for layer_name, layer_activation in zip(layer_names, activations):\n",
        "#     print(layer_name, layer_activation.shape)\n",
        "#     n_features = layer_activation.shape[-1]\n",
        "#     high = layer_activation.shape[1]\n",
        "#     width = layer_activation.shape[2]\n",
        "#     n_cols = n_features // images_per_row\n",
        "#     display_grid = np.zeros((high * n_cols, images_per_row * width))\n",
        "\n",
        "#     for col in range(n_cols):\n",
        "#         for row in range(images_per_row):\n",
        "#             channel_image = layer_activation[0, :, :, col * images_per_row + row]\n",
        "\n",
        "#             channel_image -= channel_image.mean()                  # 美化\n",
        "#             channel_image /= channel_image.std() + 1e-6              # 加 1e-6 是为了防止出现被除数为 0 的情况\n",
        "#             channel_image *= 64\n",
        "#             channel_image += 128\n",
        "#             channel_image = np.clip(channel_image, 0, 255).astype('uint8')\n",
        "#             display_grid[col * high : (col + 1) * high, row * width : (row + 1) * width] = channel_image\n",
        "#     scale = 3. / high                                   # 绘制\n",
        "#     plt.figure(figsize = (scale * display_grid.shape[1], scale * (display_grid.shape[0] + 1)))\n",
        "#     plt.title(layer_name, size = 20)\n",
        "#     plt.grid(False)\n",
        "#     plt.imshow(display_grid, aspect='auto', cmap='viridis')\n",
        "#     plt.savefig('figure/{}.png'.format(layer_name), bbox_inches='tight')"
      ]
    }
  ],
  "metadata": {
    "accelerator": "GPU",
    "colab": {
      "collapsed_sections": [],
      "name": "model_train.ipynb",
      "toc_visible": true,
      "provenance": []
    },
    "kernelspec": {
      "display_name": "Python 3",
      "name": "python3"
    },
    "language_info": {
      "name": "python"
    }
  },
  "nbformat": 4,
  "nbformat_minor": 0
}